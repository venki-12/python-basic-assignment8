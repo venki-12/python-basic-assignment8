{
 "cells": [
  {
   "cell_type": "code",
   "execution_count": 1,
   "metadata": {},
   "outputs": [],
   "source": [
    "#To what does a relative path refer?\n",
    "# Relative is current working directory"
   ]
  },
  {
   "cell_type": "code",
   "execution_count": 2,
   "metadata": {},
   "outputs": [],
   "source": [
    "#What does an absolute path start with your operating system?\n",
    "# Absolute path start with \"c:\\\"."
   ]
  },
  {
   "cell_type": "code",
   "execution_count": 6,
   "metadata": {},
   "outputs": [],
   "source": [
    "#What do the functions os.getcwd() and os.chdir() do?\n",
    "import os\n",
    "#os.getcwd()\n",
    "#this will return the current working directory.\n",
    "#os.chdir()\n",
    "# this will change the current working direcctory"
   ]
  },
  {
   "cell_type": "code",
   "execution_count": 7,
   "metadata": {},
   "outputs": [],
   "source": [
    "#What are the . and .. folders?\n",
    "# . folder is current working folder , whereas .. folder is root folder."
   ]
  },
  {
   "cell_type": "code",
   "execution_count": 8,
   "metadata": {},
   "outputs": [],
   "source": [
    "# In C:\\bacon\\eggs\\spam.txt, which part is the dir name, and which part is the base name?\n",
    "#C:\\bacon\\eggs is the dir name, while spam.txt is the base name."
   ]
  },
  {
   "cell_type": "code",
   "execution_count": 9,
   "metadata": {},
   "outputs": [],
   "source": [
    "# What are the three “mode” arguments that can be passed to the open() function?\n",
    "# 'r' read mode where it only reads the document.\n",
    "\n",
    "# 'w' write mode where it will write data into document if already data exists inside document it will erase and write new  dara\n",
    "\n",
    "# 'a' append mode where as int his mode it will add data the document without erasing the existing data."
   ]
  },
  {
   "cell_type": "code",
   "execution_count": 10,
   "metadata": {},
   "outputs": [],
   "source": [
    " # What happens if an existing file is opened in write mode?\n",
    " # If existing file is opened in writemode then whatever data does it has it will earsed and new data will be inserted into existing file."
   ]
  },
  {
   "cell_type": "code",
   "execution_count": 11,
   "metadata": {},
   "outputs": [],
   "source": [
    "#How do you tell the difference between read() and readlines()?\n",
    "# In read() mode it will read the data from the starting place of curser and also we can provide from which place it shoud read the data.\n",
    "\n",
    "# In readlines() mode it will read data of complete line,here also we can pass from which line it should start redaing data."
   ]
  },
  {
   "cell_type": "code",
   "execution_count": null,
   "metadata": {},
   "outputs": [],
   "source": [
    "# What data structure does a shelf value resemble?\n",
    "#A shelf value resembles a dictionary value; it has keys and values, along with keys() and values() methods that work similarly to the dictionary methods of the same names.\n"
   ]
  }
 ],
 "metadata": {
  "kernelspec": {
   "display_name": "Python 3",
   "language": "python",
   "name": "python3"
  },
  "language_info": {
   "codemirror_mode": {
    "name": "ipython",
    "version": 3
   },
   "file_extension": ".py",
   "mimetype": "text/x-python",
   "name": "python",
   "nbconvert_exporter": "python",
   "pygments_lexer": "ipython3",
   "version": "3.8.5"
  }
 },
 "nbformat": 4,
 "nbformat_minor": 4
}
